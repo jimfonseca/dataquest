{
 "cells": [
  {
   "cell_type": "markdown",
   "metadata": {},
   "source": [
    "https://www.dataquest.io/mission/114/challenge-cleaning-data"
   ]
  },
  {
   "cell_type": "code",
   "execution_count": 2,
   "metadata": {
    "collapsed": false
   },
   "outputs": [
    {
     "name": "stdout",
     "output_type": "stream",
     "text": [
      "                                                 URL  \\\n",
      "0      http://marvel.wikia.com/Henry_Pym_(Earth-616)   \n",
      "1  http://marvel.wikia.com/Janet_van_Dyne_(Earth-...   \n",
      "2  http://marvel.wikia.com/Anthony_Stark_(Earth-616)   \n",
      "3  http://marvel.wikia.com/Robert_Bruce_Banner_(E...   \n",
      "4   http://marvel.wikia.com/Thor_Odinson_(Earth-616)   \n",
      "\n",
      "                    Name/Alias  Appearances Current?  Gender  \\\n",
      "0    Henry Jonathan \"Hank\" Pym         1269      YES    MALE   \n",
      "1               Janet van Dyne         1165      YES  FEMALE   \n",
      "2  Anthony Edward \"Tony\" Stark         3068      YES    MALE   \n",
      "3          Robert Bruce Banner         2089      YES    MALE   \n",
      "4                 Thor Odinson         2402      YES    MALE   \n",
      "\n",
      "  Probationary Introl Full/Reserve Avengers Intro  Year  Years since joining  \\\n",
      "0                 NaN                      Sep-63  1963                   52   \n",
      "1                 NaN                      Sep-63  1963                   52   \n",
      "2                 NaN                      Sep-63  1963                   52   \n",
      "3                 NaN                      Sep-63  1963                   52   \n",
      "4                 NaN                      Sep-63  1963                   52   \n",
      "\n",
      "  Honorary                        ...                         Return1 Death2  \\\n",
      "0     Full                        ...                              NO    NaN   \n",
      "1     Full                        ...                             YES    NaN   \n",
      "2     Full                        ...                             YES    NaN   \n",
      "3     Full                        ...                             YES    NaN   \n",
      "4     Full                        ...                             YES    YES   \n",
      "\n",
      "  Return2 Death3 Return3 Death4 Return4 Death5 Return5  \\\n",
      "0     NaN    NaN     NaN    NaN     NaN    NaN     NaN   \n",
      "1     NaN    NaN     NaN    NaN     NaN    NaN     NaN   \n",
      "2     NaN    NaN     NaN    NaN     NaN    NaN     NaN   \n",
      "3     NaN    NaN     NaN    NaN     NaN    NaN     NaN   \n",
      "4      NO    NaN     NaN    NaN     NaN    NaN     NaN   \n",
      "\n",
      "                                               Notes  \n",
      "0  Merged with Ultron in Rage of Ultron Vol. 1. A...  \n",
      "1  Dies in Secret Invasion V1:I8. Actually was se...  \n",
      "2  Death: \"Later while under the influence of Imm...  \n",
      "3  Dies in Ghosts of the Future arc. However \"he ...  \n",
      "4  Dies in Fear Itself brought back because that'...  \n",
      "\n",
      "[5 rows x 21 columns]\n"
     ]
    }
   ],
   "source": [
    "import pandas as pd\n",
    "\n",
    "avengers = pd.read_csv(\"avengers.csv\")\n",
    "print avengers.head(5)\n",
    "\n",
    "\n",
    "\n",
    "\n"
   ]
  },
  {
   "cell_type": "markdown",
   "metadata": {},
   "source": [
    "Let's look at when superhereos were introduced"
   ]
  },
  {
   "cell_type": "code",
   "execution_count": 3,
   "metadata": {
    "collapsed": false
   },
   "outputs": [
    {
     "data": {
      "text/plain": [
       "<matplotlib.axes._subplots.AxesSubplot at 0x1140d8890>"
      ]
     },
     "execution_count": 3,
     "metadata": {},
     "output_type": "execute_result"
    },
    {
     "data": {
      "image/png": "[encoded data removed]",
      "text/plain": [
       "<matplotlib.figure.Figure at 0x1140cd650>"
      ]
     },
     "metadata": {},
     "output_type": "display_data"
    }
   ],
   "source": [
    "import matplotlib.pyplot as plt\n",
    "%matplotlib inline\n",
    "true_avengers = pd.DataFrame()\n",
    "\n",
    "avengers['Year'].hist()"
   ]
  },
  {
   "cell_type": "markdown",
   "metadata": {},
   "source": [
    "The Avengers weren't introduced until the 60's, so let's remove those avengers with introductions ~1900"
   ]
  },
  {
   "cell_type": "code",
   "execution_count": 4,
   "metadata": {
    "collapsed": false
   },
   "outputs": [
    {
     "data": {
      "text/plain": [
       "<matplotlib.axes._subplots.AxesSubplot at 0x1146aae10>"
      ]
     },
     "execution_count": 4,
     "metadata": {},
     "output_type": "execute_result"
    },
    {
     "data": {
      "image/png": "[encoded data removed]",
      "text/plain": [
       "<matplotlib.figure.Figure at 0x1146136d0>"
      ]
     },
     "metadata": {},
     "output_type": "display_data"
    }
   ],
   "source": [
    "true_avengers = avengers[avengers['Year']>= 1960]\n",
    "true_avengers['Year'].hist()"
   ]
  },
  {
   "cell_type": "markdown",
   "metadata": {},
   "source": [
    "\"We are interested in the number of total deaths each character experienced and we'd like a field containing that distilled information. Right now, there are 5 fields (Death1 to Death5) that each contain a binary value representing if a superhero experienced that death or not. For example, a superhero can experience Death1, then Death2, etc. until they were no longer brought back to life by the writers.\"\n",
    "\n",
    "So let's put total deaths in a new column."
   ]
  },
  {
   "cell_type": "code",
   "execution_count": 5,
   "metadata": {
    "collapsed": false
   },
   "outputs": [
    {
     "name": "stderr",
     "output_type": "stream",
     "text": [
      "/usr/local/lib/python2.7/site-packages/ipykernel/__main__.py:9: SettingWithCopyWarning: \n",
      "A value is trying to be set on a copy of a slice from a DataFrame.\n",
      "Try using .loc[row_indexer,col_indexer] = value instead\n",
      "\n",
      "See the caveats in the documentation: http://pandas.pydata.org/pandas-docs/stable/indexing.html#indexing-view-versus-copy\n"
     ]
    }
   ],
   "source": [
    "def num_deaths(row):\n",
    "    sum = 0 \n",
    "    columns = ['Death1','Death2','Death3','Death4','Death5']\n",
    "    for c in columns:\n",
    "        if row[c]==\"YES\":\n",
    "            sum = sum +1\n",
    "    return sum\n",
    "        \n",
    "true_avengers['Deaths'] = true_avengers.apply(num_deaths,axis=1)\n"
   ]
  },
  {
   "cell_type": "markdown",
   "metadata": {},
   "source": [
    "Let's make sure the 'Years since joining' field and the 'Year' column--which gives the first year the character appeared--are accurate for the \"present\" year. For \"present year\" we'll assume it's 2015 since this is when the data set was collected."
   ]
  },
  {
   "cell_type": "code",
   "execution_count": 7,
   "metadata": {
    "collapsed": false
   },
   "outputs": [
    {
     "name": "stdout",
     "output_type": "stream",
     "text": [
      "159\n"
     ]
    }
   ],
   "source": [
    "joined_accuracy_count = sum((true_avengers[\"Years since joining\"]+true_avengers[\"Year\"])==2015)\n",
    "print joined_accuracy_count"
   ]
  },
  {
   "cell_type": "code",
   "execution_count": null,
   "metadata": {
    "collapsed": true
   },
   "outputs": [],
   "source": []
  }
 ],
 "metadata": {
  "kernelspec": {
   "display_name": "Python 2",
   "language": "python",
   "name": "python2"
  },
  "language_info": {
   "codemirror_mode": {
    "name": "ipython",
    "version": 2
   },
   "file_extension": ".py",
   "mimetype": "text/x-python",
   "name": "python",
   "nbconvert_exporter": "python",
   "pygments_lexer": "ipython2",
   "version": "2.7.12"
  }
 },
 "nbformat": 4,
 "nbformat_minor": 0
}
